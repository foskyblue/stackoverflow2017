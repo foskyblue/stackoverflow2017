{
 "cells": [
  {
   "cell_type": "markdown",
   "metadata": {},
   "source": [
    "In this notebook, I will be exploring the importance of the knowledge of algorithms and data structure, and communication skills in the recruitment of a web developer. "
   ]
  },
  {
   "cell_type": "markdown",
   "metadata": {},
   "source": [
    "First, we import all the required libraries\n"
   ]
  },
  {
   "cell_type": "code",
   "execution_count": 143,
   "metadata": {},
   "outputs": [
    {
     "data": {
      "text/html": [
       "<div>\n",
       "<style scoped>\n",
       "    .dataframe tbody tr th:only-of-type {\n",
       "        vertical-align: middle;\n",
       "    }\n",
       "\n",
       "    .dataframe tbody tr th {\n",
       "        vertical-align: top;\n",
       "    }\n",
       "\n",
       "    .dataframe thead th {\n",
       "        text-align: right;\n",
       "    }\n",
       "</style>\n",
       "<table border=\"1\" class=\"dataframe\">\n",
       "  <thead>\n",
       "    <tr style=\"text-align: right;\">\n",
       "      <th></th>\n",
       "      <th>Respondent</th>\n",
       "      <th>Professional</th>\n",
       "      <th>ProgramHobby</th>\n",
       "      <th>Country</th>\n",
       "      <th>University</th>\n",
       "      <th>EmploymentStatus</th>\n",
       "      <th>FormalEducation</th>\n",
       "      <th>MajorUndergrad</th>\n",
       "      <th>HomeRemote</th>\n",
       "      <th>CompanySize</th>\n",
       "      <th>...</th>\n",
       "      <th>StackOverflowMakeMoney</th>\n",
       "      <th>Gender</th>\n",
       "      <th>HighestEducationParents</th>\n",
       "      <th>Race</th>\n",
       "      <th>SurveyLong</th>\n",
       "      <th>QuestionsInteresting</th>\n",
       "      <th>QuestionsConfusing</th>\n",
       "      <th>InterestedAnswers</th>\n",
       "      <th>Salary</th>\n",
       "      <th>ExpectedSalary</th>\n",
       "    </tr>\n",
       "  </thead>\n",
       "  <tbody>\n",
       "    <tr>\n",
       "      <th>0</th>\n",
       "      <td>1</td>\n",
       "      <td>Student</td>\n",
       "      <td>Yes, both</td>\n",
       "      <td>United States</td>\n",
       "      <td>No</td>\n",
       "      <td>Not employed, and not looking for work</td>\n",
       "      <td>Secondary school</td>\n",
       "      <td>NaN</td>\n",
       "      <td>NaN</td>\n",
       "      <td>NaN</td>\n",
       "      <td>...</td>\n",
       "      <td>Strongly disagree</td>\n",
       "      <td>Male</td>\n",
       "      <td>High school</td>\n",
       "      <td>White or of European descent</td>\n",
       "      <td>Strongly disagree</td>\n",
       "      <td>Strongly agree</td>\n",
       "      <td>Disagree</td>\n",
       "      <td>Strongly agree</td>\n",
       "      <td>NaN</td>\n",
       "      <td>NaN</td>\n",
       "    </tr>\n",
       "    <tr>\n",
       "      <th>1</th>\n",
       "      <td>2</td>\n",
       "      <td>Student</td>\n",
       "      <td>Yes, both</td>\n",
       "      <td>United Kingdom</td>\n",
       "      <td>Yes, full-time</td>\n",
       "      <td>Employed part-time</td>\n",
       "      <td>Some college/university study without earning ...</td>\n",
       "      <td>Computer science or software engineering</td>\n",
       "      <td>More than half, but not all, the time</td>\n",
       "      <td>20 to 99 employees</td>\n",
       "      <td>...</td>\n",
       "      <td>Strongly disagree</td>\n",
       "      <td>Male</td>\n",
       "      <td>A master's degree</td>\n",
       "      <td>White or of European descent</td>\n",
       "      <td>Somewhat agree</td>\n",
       "      <td>Somewhat agree</td>\n",
       "      <td>Disagree</td>\n",
       "      <td>Strongly agree</td>\n",
       "      <td>NaN</td>\n",
       "      <td>37500.0</td>\n",
       "    </tr>\n",
       "    <tr>\n",
       "      <th>2</th>\n",
       "      <td>3</td>\n",
       "      <td>Professional developer</td>\n",
       "      <td>Yes, both</td>\n",
       "      <td>United Kingdom</td>\n",
       "      <td>No</td>\n",
       "      <td>Employed full-time</td>\n",
       "      <td>Bachelor's degree</td>\n",
       "      <td>Computer science or software engineering</td>\n",
       "      <td>Less than half the time, but at least one day ...</td>\n",
       "      <td>10,000 or more employees</td>\n",
       "      <td>...</td>\n",
       "      <td>Disagree</td>\n",
       "      <td>Male</td>\n",
       "      <td>A professional degree</td>\n",
       "      <td>White or of European descent</td>\n",
       "      <td>Somewhat agree</td>\n",
       "      <td>Agree</td>\n",
       "      <td>Disagree</td>\n",
       "      <td>Agree</td>\n",
       "      <td>113750.0</td>\n",
       "      <td>NaN</td>\n",
       "    </tr>\n",
       "    <tr>\n",
       "      <th>3</th>\n",
       "      <td>4</td>\n",
       "      <td>Professional non-developer who sometimes write...</td>\n",
       "      <td>Yes, both</td>\n",
       "      <td>United States</td>\n",
       "      <td>No</td>\n",
       "      <td>Employed full-time</td>\n",
       "      <td>Doctoral degree</td>\n",
       "      <td>A non-computer-focused engineering discipline</td>\n",
       "      <td>Less than half the time, but at least one day ...</td>\n",
       "      <td>10,000 or more employees</td>\n",
       "      <td>...</td>\n",
       "      <td>Disagree</td>\n",
       "      <td>Male</td>\n",
       "      <td>A doctoral degree</td>\n",
       "      <td>White or of European descent</td>\n",
       "      <td>Agree</td>\n",
       "      <td>Agree</td>\n",
       "      <td>Somewhat agree</td>\n",
       "      <td>Strongly agree</td>\n",
       "      <td>NaN</td>\n",
       "      <td>NaN</td>\n",
       "    </tr>\n",
       "    <tr>\n",
       "      <th>4</th>\n",
       "      <td>5</td>\n",
       "      <td>Professional developer</td>\n",
       "      <td>Yes, I program as a hobby</td>\n",
       "      <td>Switzerland</td>\n",
       "      <td>No</td>\n",
       "      <td>Employed full-time</td>\n",
       "      <td>Master's degree</td>\n",
       "      <td>Computer science or software engineering</td>\n",
       "      <td>Never</td>\n",
       "      <td>10 to 19 employees</td>\n",
       "      <td>...</td>\n",
       "      <td>NaN</td>\n",
       "      <td>NaN</td>\n",
       "      <td>NaN</td>\n",
       "      <td>NaN</td>\n",
       "      <td>NaN</td>\n",
       "      <td>NaN</td>\n",
       "      <td>NaN</td>\n",
       "      <td>NaN</td>\n",
       "      <td>NaN</td>\n",
       "      <td>NaN</td>\n",
       "    </tr>\n",
       "  </tbody>\n",
       "</table>\n",
       "<p>5 rows × 154 columns</p>\n",
       "</div>"
      ],
      "text/plain": [
       "   Respondent                                       Professional  \\\n",
       "0           1                                            Student   \n",
       "1           2                                            Student   \n",
       "2           3                             Professional developer   \n",
       "3           4  Professional non-developer who sometimes write...   \n",
       "4           5                             Professional developer   \n",
       "\n",
       "                ProgramHobby         Country      University  \\\n",
       "0                  Yes, both   United States              No   \n",
       "1                  Yes, both  United Kingdom  Yes, full-time   \n",
       "2                  Yes, both  United Kingdom              No   \n",
       "3                  Yes, both   United States              No   \n",
       "4  Yes, I program as a hobby     Switzerland              No   \n",
       "\n",
       "                         EmploymentStatus  \\\n",
       "0  Not employed, and not looking for work   \n",
       "1                      Employed part-time   \n",
       "2                      Employed full-time   \n",
       "3                      Employed full-time   \n",
       "4                      Employed full-time   \n",
       "\n",
       "                                     FormalEducation  \\\n",
       "0                                   Secondary school   \n",
       "1  Some college/university study without earning ...   \n",
       "2                                  Bachelor's degree   \n",
       "3                                    Doctoral degree   \n",
       "4                                    Master's degree   \n",
       "\n",
       "                                  MajorUndergrad  \\\n",
       "0                                            NaN   \n",
       "1       Computer science or software engineering   \n",
       "2       Computer science or software engineering   \n",
       "3  A non-computer-focused engineering discipline   \n",
       "4       Computer science or software engineering   \n",
       "\n",
       "                                          HomeRemote  \\\n",
       "0                                                NaN   \n",
       "1              More than half, but not all, the time   \n",
       "2  Less than half the time, but at least one day ...   \n",
       "3  Less than half the time, but at least one day ...   \n",
       "4                                              Never   \n",
       "\n",
       "                CompanySize  ... StackOverflowMakeMoney Gender  \\\n",
       "0                       NaN  ...      Strongly disagree   Male   \n",
       "1        20 to 99 employees  ...      Strongly disagree   Male   \n",
       "2  10,000 or more employees  ...               Disagree   Male   \n",
       "3  10,000 or more employees  ...               Disagree   Male   \n",
       "4        10 to 19 employees  ...                    NaN    NaN   \n",
       "\n",
       "  HighestEducationParents                          Race         SurveyLong  \\\n",
       "0             High school  White or of European descent  Strongly disagree   \n",
       "1       A master's degree  White or of European descent     Somewhat agree   \n",
       "2   A professional degree  White or of European descent     Somewhat agree   \n",
       "3       A doctoral degree  White or of European descent              Agree   \n",
       "4                     NaN                           NaN                NaN   \n",
       "\n",
       "  QuestionsInteresting QuestionsConfusing InterestedAnswers    Salary  \\\n",
       "0       Strongly agree           Disagree    Strongly agree       NaN   \n",
       "1       Somewhat agree           Disagree    Strongly agree       NaN   \n",
       "2                Agree           Disagree             Agree  113750.0   \n",
       "3                Agree     Somewhat agree    Strongly agree       NaN   \n",
       "4                  NaN                NaN               NaN       NaN   \n",
       "\n",
       "   ExpectedSalary  \n",
       "0             NaN  \n",
       "1         37500.0  \n",
       "2             NaN  \n",
       "3             NaN  \n",
       "4             NaN  \n",
       "\n",
       "[5 rows x 154 columns]"
      ]
     },
     "execution_count": 143,
     "metadata": {},
     "output_type": "execute_result"
    }
   ],
   "source": [
    "import pandas as pd\n",
    "import numpy as np\n",
    "import matplotlib.pyplot as plt\n",
    "from collections import defaultdict\n",
    "import Utils as u\n",
    "%matplotlib inline\n",
    "\n",
    "df = pd.read_csv('./survey_results_public.csv')\n",
    "# schema = pd.read_csv('./survey_results_schema.csv')\n",
    "df.head()"
   ]
  },
  {
   "cell_type": "code",
   "execution_count": 144,
   "metadata": {},
   "outputs": [],
   "source": [
    "#\n",
    "df = df[(df['WebDeveloperType'] == 'Full stack Web developer') | \n",
    "       (df['WebDeveloperType'] == 'Back-end Web developer')   | \n",
    "       (df['WebDeveloperType'] == 'Front-end Web developer')]"
   ]
  },
  {
   "cell_type": "code",
   "execution_count": 145,
   "metadata": {},
   "outputs": [
    {
     "data": {
      "text/plain": [
       "Important               910\n",
       "Somewhat important      888\n",
       "Very important          347\n",
       "Not very important      277\n",
       "Not at all important     48\n",
       "Name: ImportantHiringAlgorithms, dtype: int64"
      ]
     },
     "execution_count": 145,
     "metadata": {},
     "output_type": "execute_result"
    }
   ],
   "source": [
    "algo = df['ImportantHiringAlgorithms'].value_counts() # Assign value counts for the column ImportantHiringAlgorithms to algo \n",
    "algo"
   ]
  },
  {
   "cell_type": "code",
   "execution_count": 146,
   "metadata": {},
   "outputs": [
    {
     "data": {
      "text/plain": [
       "Important               1165\n",
       "Very important           846\n",
       "Somewhat important       399\n",
       "Not very important        52\n",
       "Not at all important      12\n",
       "Name: ImportantHiringCommunication, dtype: int64"
      ]
     },
     "execution_count": 146,
     "metadata": {},
     "output_type": "execute_result"
    }
   ],
   "source": [
    "comm = df['ImportantHiringCommunication'].value_counts() # Assign value counts for the column ImportantHiringCommunication to algo \n",
    "comm"
   ]
  },
  {
   "cell_type": "code",
   "execution_count": 157,
   "metadata": {},
   "outputs": [],
   "source": [
    "def grouped_bar_chart(algo, comm):\n",
    "    \n",
    "    '''\n",
    "        INPUT: \n",
    "        alog - a pandas series which represents opinions on the importance of algorithms and data structure\n",
    "        comm - a pandas series which represents opinions on the importance of communication skills\n",
    "        \n",
    "        OUTPUT: \n",
    "        Display a grouped bar chart showing both algo and comm\n",
    "    '''    \n",
    "    x = np.arange(len(algo.index))  # the label locations\n",
    "    width = 0.4  # the width of the bars\n",
    "    labels = comm.index\n",
    "\n",
    "    algos = list(algo.values)\n",
    "\n",
    "    algos[1], algos[2] = algos[2], algos[1] # swap elements in algo values to get consistent opinions and values\n",
    "    \n",
    "#     comms = list(comm.values)\n",
    "    comm_plt = plt.bar(x, comm/comm.sum(), width)\n",
    "    algo_plt = plt.bar(x+width, algo/algo.sum(), width)\n",
    "\n",
    "    plt.legend([comm_plt, algo_plt], ['Communication Skills', 'Algorithms & data structure'])\n",
    "    plt.xticks(x+width/2, labels, rotation='vertical') \n",
    "    plt.ylabel('Count')\n",
    "    \n",
    "    plt.show()"
   ]
  },
  {
   "cell_type": "markdown",
   "metadata": {},
   "source": [
    "To be able to see the data more clearly I used a grouped bar chart to display the imporance of algorithms and data structure, and communications skills in the recruitment of Software developers. "
   ]
  },
  {
   "cell_type": "code",
   "execution_count": 159,
   "metadata": {},
   "outputs": [
    {
     "data": {
      "image/png": "[encoded data removed]",
      "text/plain": [
       "<Figure size 432x288 with 1 Axes>"
      ]
     },
     "metadata": {
      "needs_background": "light"
     },
     "output_type": "display_data"
    },
    {
     "data": {
      "text/plain": [
       "Important               0.368421\n",
       "Somewhat important      0.359514\n",
       "Very important          0.140486\n",
       "Not very important      0.112146\n",
       "Not at all important    0.019433\n",
       "Name: ImportantHiringAlgorithms, dtype: float64"
      ]
     },
     "execution_count": 159,
     "metadata": {},
     "output_type": "execute_result"
    }
   ],
   "source": [
    "grouped_bar_chart(algo, comm)\n",
    "algo/algo.sum()"
   ]
  },
  {
   "cell_type": "code",
   "execution_count": 15,
   "metadata": {},
   "outputs": [
    {
     "data": {
      "text/plain": [
       "array([nan, '20 to 99 employees', '10,000 or more employees',\n",
       "       '10 to 19 employees', 'Fewer than 10 employees',\n",
       "       '5,000 to 9,999 employees', '100 to 499 employees',\n",
       "       '1,000 to 4,999 employees', '500 to 999 employees', \"I don't know\",\n",
       "       'I prefer not to answer'], dtype=object)"
      ]
     },
     "execution_count": 15,
     "metadata": {},
     "output_type": "execute_result"
    }
   ],
   "source": [
    "# df['CompanySize'].unique()"
   ]
  },
  {
   "cell_type": "markdown",
   "metadata": {},
   "source": [
    "I dived in a little bit to see the response to the importance of communication skills in the recruitment process for large companies. The customize bar chart displays this result."
   ]
  },
  {
   "cell_type": "code",
   "execution_count": 137,
   "metadata": {},
   "outputs": [
    {
     "data": {
      "text/plain": [
       "0.12295846943537098"
      ]
     },
     "execution_count": 137,
     "metadata": {},
     "output_type": "execute_result"
    }
   ],
   "source": [
    "df['LargeCompanies'] = df['CompanySize'].apply(lambda x: 1 if x in ('10,000 or more employees', '5,000 to 9,999 employees') else 0)\n",
    "df['LargeCompanies'].mean()"
   ]
  },
  {
   "cell_type": "code",
   "execution_count": 138,
   "metadata": {},
   "outputs": [],
   "source": [
    "tc_1 = df[df['LargeCompanies'] == 1]\n",
    "tc_0 = df[df['LargeCompanies'] == 0]"
   ]
  },
  {
   "cell_type": "code",
   "execution_count": 139,
   "metadata": {},
   "outputs": [
    {
     "data": {
      "text/html": [
       "<style  type=\"text/css\" >\n",
       "    #T_fa3e3582_954e_11eb_bb38_58a023061bcerow0_col2 {\n",
       "            width:  10em;\n",
       "             height:  80%;\n",
       "            background:  linear-gradient(90deg, transparent 54.1%, #5fba7d 54.1%, #5fba7d 77.5%, transparent 77.5%);\n",
       "        }    #T_fa3e3582_954e_11eb_bb38_58a023061bcerow1_col2 {\n",
       "            width:  10em;\n",
       "             height:  80%;\n",
       "            background:  linear-gradient(90deg, transparent 54.1%, #5fba7d 54.1%, #5fba7d 100.0%, transparent 100.0%);\n",
       "        }    #T_fa3e3582_954e_11eb_bb38_58a023061bcerow2_col2 {\n",
       "            width:  10em;\n",
       "             height:  80%;\n",
       "            background:  linear-gradient(90deg,#d65f5f 54.1%, transparent 54.1%);\n",
       "        }    #T_fa3e3582_954e_11eb_bb38_58a023061bcerow3_col2 {\n",
       "            width:  10em;\n",
       "             height:  80%;\n",
       "            background:  linear-gradient(90deg, transparent 44.7%, #d65f5f 44.7%, #d65f5f 54.1%, transparent 54.1%);\n",
       "        }</style><table id=\"T_fa3e3582_954e_11eb_bb38_58a023061bce\" ><thead>    <tr>        <th class=\"blank level0\" ></th>        <th class=\"col_heading level0 col0\" >tc_1_perc(> 10,000 employees)</th>        <th class=\"col_heading level0 col1\" >tc_0_perc(< 10,000 employees)</th>        <th class=\"col_heading level0 col2\" >DiffLargeCompaniesVals</th>    </tr>    <tr>        <th class=\"index_name level0\" >method</th>        <th class=\"blank\" ></th>        <th class=\"blank\" ></th>        <th class=\"blank\" ></th>    </tr></thead><tbody>\n",
       "                <tr>\n",
       "                        <th id=\"T_fa3e3582_954e_11eb_bb38_58a023061bcelevel0_row0\" class=\"row_heading level0 row0\" >Important</th>\n",
       "                        <td id=\"T_fa3e3582_954e_11eb_bb38_58a023061bcerow0_col0\" class=\"data row0 col0\" >0.489933</td>\n",
       "                        <td id=\"T_fa3e3582_954e_11eb_bb38_58a023061bcerow0_col1\" class=\"data row0 col1\" >0.468290</td>\n",
       "                        <td id=\"T_fa3e3582_954e_11eb_bb38_58a023061bcerow0_col2\" class=\"data row0 col2\" >0.021642</td>\n",
       "            </tr>\n",
       "            <tr>\n",
       "                        <th id=\"T_fa3e3582_954e_11eb_bb38_58a023061bcelevel0_row1\" class=\"row_heading level0 row1\" >Very important</th>\n",
       "                        <td id=\"T_fa3e3582_954e_11eb_bb38_58a023061bcerow1_col0\" class=\"data row1 col0\" >0.379195</td>\n",
       "                        <td id=\"T_fa3e3582_954e_11eb_bb38_58a023061bcerow1_col1\" class=\"data row1 col1\" >0.336857</td>\n",
       "                        <td id=\"T_fa3e3582_954e_11eb_bb38_58a023061bcerow1_col2\" class=\"data row1 col2\" >0.042338</td>\n",
       "            </tr>\n",
       "            <tr>\n",
       "                        <th id=\"T_fa3e3582_954e_11eb_bb38_58a023061bcelevel0_row2\" class=\"row_heading level0 row2\" >Somewhat important</th>\n",
       "                        <td id=\"T_fa3e3582_954e_11eb_bb38_58a023061bcerow2_col0\" class=\"data row2 col0\" >0.117450</td>\n",
       "                        <td id=\"T_fa3e3582_954e_11eb_bb38_58a023061bcerow2_col1\" class=\"data row2 col1\" >0.167279</td>\n",
       "                        <td id=\"T_fa3e3582_954e_11eb_bb38_58a023061bcerow2_col2\" class=\"data row2 col2\" >-0.049830</td>\n",
       "            </tr>\n",
       "            <tr>\n",
       "                        <th id=\"T_fa3e3582_954e_11eb_bb38_58a023061bcelevel0_row3\" class=\"row_heading level0 row3\" >Not very important</th>\n",
       "                        <td id=\"T_fa3e3582_954e_11eb_bb38_58a023061bcerow3_col0\" class=\"data row3 col0\" >0.013423</td>\n",
       "                        <td id=\"T_fa3e3582_954e_11eb_bb38_58a023061bcerow3_col1\" class=\"data row3 col1\" >0.022059</td>\n",
       "                        <td id=\"T_fa3e3582_954e_11eb_bb38_58a023061bcerow3_col2\" class=\"data row3 col2\" >-0.008636</td>\n",
       "            </tr>\n",
       "    </tbody></table>"
      ],
      "text/plain": [
       "<pandas.io.formats.style.Styler at 0x1d7a7a90848>"
      ]
     },
     "execution_count": 139,
     "metadata": {},
     "output_type": "execute_result"
    }
   ],
   "source": [
    "# tc_1_perc = u.clean_and_plot2(tc_1, column='CousinEducation', rename_col='methodology', possible_vals=possible_vals, title='Large Companies', plot=False)\n",
    "# tc_0_perc = u.clean_and_plot2(tc_0, column='CousinEducation', rename_col='methodology', possible_vals=possible_vals, title='Max of Small Companies', plot=False)\n",
    "\n",
    "tc_1_perc = u.clean_and_plot(tc_1, u.get_unique(df['ImportantHiringCommunication']), 'ImportantHiringCommunication', 'ImportantHiringCommunication', plot=False)\n",
    "tc_0_perc = u.clean_and_plot(tc_0, u.get_unique(df['ImportantHiringCommunication']), 'ImportantHiringCommunication', 'ImportantHiringCommunication', plot=False)\n",
    "\n",
    "tc_comp_df = pd.merge(tc_1_perc, tc_0_perc, left_index=True, right_index=True)\n",
    "tc_comp_df.columns = [\"tc_1_perc(> 10,000 employees)\", \"tc_0_perc(< 10,000 employees)\"]\n",
    "tc_comp_df['DiffLargeCompaniesVals'] = tc_comp_df[\"tc_1_perc(> 10,000 employees)\"] - tc_comp_df[\"tc_0_perc(< 10,000 employees)\"]\n",
    "tc_comp_df.style.bar(subset=['DiffLargeCompaniesVals'], align='mid', color=['#d65f5f', '#5fba7d'])\n",
    "# print(tc_1_perc)"
   ]
  },
  {
   "cell_type": "code",
   "execution_count": 111,
   "metadata": {},
   "outputs": [
    {
     "data": {
      "text/plain": [
       "array(['Professional developer'], dtype=object)"
      ]
     },
     "execution_count": 111,
     "metadata": {},
     "output_type": "execute_result"
    }
   ],
   "source": [
    "df['Professional'].unique()"
   ]
  },
  {
   "cell_type": "markdown",
   "metadata": {},
   "source": [
    "Professionals opinion on the matter can be observed below."
   ]
  },
  {
   "cell_type": "code",
   "execution_count": 112,
   "metadata": {},
   "outputs": [
    {
     "data": {
      "text/plain": [
       "0.25314979001399907"
      ]
     },
     "execution_count": 112,
     "metadata": {},
     "output_type": "execute_result"
    }
   ],
   "source": [
    "df['ProfessionDevs'] = df['FormalEducation'].apply(lambda x: 1 if x in (\"Master's degree\", \"Doctoral degree\", \"Professional degree\") else 0)\n",
    "df['ProfessionDevs'].mean()"
   ]
  },
  {
   "cell_type": "code",
   "execution_count": 113,
   "metadata": {},
   "outputs": [],
   "source": [
    "p_1 = df[df['ProfessionDevs'] == 1]\n",
    "p_0 = df[df['ProfessionDevs'] == 0]"
   ]
  },
  {
   "cell_type": "code",
   "execution_count": 114,
   "metadata": {},
   "outputs": [
    {
     "data": {
      "text/html": [
       "<style  type=\"text/css\" >\n",
       "    #T_e788b680_953f_11eb_a14f_58a023061bcerow0_col2 {\n",
       "            width:  10em;\n",
       "             height:  80%;\n",
       "            background:  linear-gradient(90deg, transparent 33.5%, #5fba7d 33.5%, #5fba7d 100.0%, transparent 100.0%);\n",
       "        }    #T_e788b680_953f_11eb_a14f_58a023061bcerow1_col2 {\n",
       "            width:  10em;\n",
       "             height:  80%;\n",
       "            background:  linear-gradient(90deg,#d65f5f 33.5%, transparent 33.5%);\n",
       "        }    #T_e788b680_953f_11eb_a14f_58a023061bcerow2_col2 {\n",
       "            width:  10em;\n",
       "             height:  80%;\n",
       "            background:  linear-gradient(90deg, transparent 13.6%, #d65f5f 13.6%, #d65f5f 33.5%, transparent 33.5%);\n",
       "        }    #T_e788b680_953f_11eb_a14f_58a023061bcerow3_col2 {\n",
       "            width:  10em;\n",
       "             height:  80%;\n",
       "            background:  linear-gradient(90deg, transparent 31.5%, #d65f5f 31.5%, #d65f5f 33.5%, transparent 33.5%);\n",
       "        }    #T_e788b680_953f_11eb_a14f_58a023061bcerow4_col2 {\n",
       "            width:  10em;\n",
       "             height:  80%;\n",
       "            background:  linear-gradient(90deg, transparent 22.4%, #d65f5f 22.4%, #d65f5f 33.5%, transparent 33.5%);\n",
       "        }</style><table id=\"T_e788b680_953f_11eb_a14f_58a023061bce\" ><thead>    <tr>        <th class=\"blank level0\" ></th>        <th class=\"col_heading level0 col0\" >p_1_perc()</th>        <th class=\"col_heading level0 col1\" >p_0_perc()</th>        <th class=\"col_heading level0 col2\" >DiffProfessionalVals</th>    </tr>    <tr>        <th class=\"index_name level0\" >method</th>        <th class=\"blank\" ></th>        <th class=\"blank\" ></th>        <th class=\"blank\" ></th>    </tr></thead><tbody>\n",
       "                <tr>\n",
       "                        <th id=\"T_e788b680_953f_11eb_a14f_58a023061bcelevel0_row0\" class=\"row_heading level0 row0\" >Important</th>\n",
       "                        <td id=\"T_e788b680_953f_11eb_a14f_58a023061bcerow0_col0\" class=\"data row0 col0\" >0.408875</td>\n",
       "                        <td id=\"T_e788b680_953f_11eb_a14f_58a023061bcerow0_col1\" class=\"data row0 col1\" >0.354541</td>\n",
       "                        <td id=\"T_e788b680_953f_11eb_a14f_58a023061bcerow0_col2\" class=\"data row0 col2\" >0.054334</td>\n",
       "            </tr>\n",
       "            <tr>\n",
       "                        <th id=\"T_e788b680_953f_11eb_a14f_58a023061bcelevel0_row1\" class=\"row_heading level0 row1\" >Somewhat important</th>\n",
       "                        <td id=\"T_e788b680_953f_11eb_a14f_58a023061bcerow1_col0\" class=\"data row1 col0\" >0.339144</td>\n",
       "                        <td id=\"T_e788b680_953f_11eb_a14f_58a023061bcerow1_col1\" class=\"data row1 col1\" >0.366504</td>\n",
       "                        <td id=\"T_e788b680_953f_11eb_a14f_58a023061bcerow1_col2\" class=\"data row1 col2\" >-0.027359</td>\n",
       "            </tr>\n",
       "            <tr>\n",
       "                        <th id=\"T_e788b680_953f_11eb_a14f_58a023061bcelevel0_row2\" class=\"row_heading level0 row2\" >Very important</th>\n",
       "                        <td id=\"T_e788b680_953f_11eb_a14f_58a023061bcerow2_col0\" class=\"data row2 col0\" >0.128368</td>\n",
       "                        <td id=\"T_e788b680_953f_11eb_a14f_58a023061bcerow2_col1\" class=\"data row2 col1\" >0.144644</td>\n",
       "                        <td id=\"T_e788b680_953f_11eb_a14f_58a023061bcerow2_col2\" class=\"data row2 col2\" >-0.016276</td>\n",
       "            </tr>\n",
       "            <tr>\n",
       "                        <th id=\"T_e788b680_953f_11eb_a14f_58a023061bcelevel0_row3\" class=\"row_heading level0 row3\" >Not very important</th>\n",
       "                        <td id=\"T_e788b680_953f_11eb_a14f_58a023061bcerow3_col0\" class=\"data row3 col0\" >0.110935</td>\n",
       "                        <td id=\"T_e788b680_953f_11eb_a14f_58a023061bcerow3_col1\" class=\"data row3 col1\" >0.112561</td>\n",
       "                        <td id=\"T_e788b680_953f_11eb_a14f_58a023061bcerow3_col2\" class=\"data row3 col2\" >-0.001626</td>\n",
       "            </tr>\n",
       "            <tr>\n",
       "                        <th id=\"T_e788b680_953f_11eb_a14f_58a023061bcelevel0_row4\" class=\"row_heading level0 row4\" >Not at all important</th>\n",
       "                        <td id=\"T_e788b680_953f_11eb_a14f_58a023061bcerow4_col0\" class=\"data row4 col0\" >0.012678</td>\n",
       "                        <td id=\"T_e788b680_953f_11eb_a14f_58a023061bcerow4_col1\" class=\"data row4 col1\" >0.021751</td>\n",
       "                        <td id=\"T_e788b680_953f_11eb_a14f_58a023061bcerow4_col2\" class=\"data row4 col2\" >-0.009073</td>\n",
       "            </tr>\n",
       "    </tbody></table>"
      ],
      "text/plain": [
       "<pandas.io.formats.style.Styler at 0x1d7a67c6788>"
      ]
     },
     "execution_count": 114,
     "metadata": {},
     "output_type": "execute_result"
    }
   ],
   "source": [
    "# tc_1_perc = u.clean_and_plot2(tc_1, column='CousinEducation', rename_col='methodology', possible_vals=possible_vals, title='Large Companies', plot=False)\n",
    "# tc_0_perc = u.clean_and_plot2(tc_0, column='CousinEducation', rename_col='methodology', possible_vals=possible_vals, title='Max of Small Companies', plot=False)\n",
    "\n",
    "p_1_perc = u.clean_and_plot(p_1, u.get_unique(df['ImportantHiringAlgorithms']), 'ImportantHiringAlgorithms', 'ImportantHiringAlgorithms', plot=False)\n",
    "p_0_perc = u.clean_and_plot(p_0, u.get_unique(df['ImportantHiringAlgorithms']), 'ImportantHiringAlgorithms', 'ImportantHiringAlgorithms', plot=False)\n",
    "\n",
    "p_comp_df = pd.merge(p_1_perc, p_0_perc, left_index=True, right_index=True)\n",
    "p_comp_df.columns = [\"p_1_perc()\", \"p_0_perc()\"]\n",
    "p_comp_df['DiffProfessionalVals'] = p_comp_df[\"p_1_perc()\"] - p_comp_df[\"p_0_perc()\"]\n",
    "p_comp_df.style.bar(subset=['DiffProfessionalVals'], align='mid', color=['#d65f5f', '#5fba7d'])\n",
    "# print(tc_1_perc)"
   ]
  },
  {
   "cell_type": "code",
   "execution_count": null,
   "metadata": {},
   "outputs": [],
   "source": []
  },
  {
   "cell_type": "code",
   "execution_count": null,
   "metadata": {},
   "outputs": [],
   "source": []
  }
 ],
 "metadata": {
  "kernelspec": {
   "display_name": "Python 3",
   "language": "python",
   "name": "python3"
  },
  "language_info": {
   "codemirror_mode": {
    "name": "ipython",
    "version": 3
   },
   "file_extension": ".py",
   "mimetype": "text/x-python",
   "name": "python",
   "nbconvert_exporter": "python",
   "pygments_lexer": "ipython3",
   "version": "3.7.6"
  }
 },
 "nbformat": 4,
 "nbformat_minor": 4
}
